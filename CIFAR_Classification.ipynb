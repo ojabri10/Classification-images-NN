{
 "cells": [
  {
   "cell_type": "code",
   "execution_count": 1,
   "metadata": {},
   "outputs": [],
   "source": [
    "import pickle\n",
    "import numpy as np\n",
    "import random\n",
    "from collections import Counter\n",
    "import matplotlib.pyplot as plt"
   ]
  },
  {
   "cell_type": "code",
   "execution_count": 2,
   "metadata": {},
   "outputs": [],
   "source": [
    "path_images = 'C:\\\\Users\\\\Oussama\\\\Desktop\\\\TD1_DL\\\\cifar-10-batches-py\\\\'"
   ]
  },
  {
   "cell_type": "code",
   "execution_count": 3,
   "metadata": {},
   "outputs": [],
   "source": [
    "def unpickle(file):\n",
    "    with open(file, 'rb') as fo:\n",
    "        dict = pickle.load(fo, encoding='bytes')\n",
    "    return dict"
   ]
  },
  {
   "cell_type": "code",
   "execution_count": 4,
   "metadata": {},
   "outputs": [],
   "source": [
    "def lecture_cifar(path_images):\n",
    "    dic = unpickle(path_images+'data_batch_1')\n",
    "    X=np.array(dic[b'data'], dtype='int32')    \n",
    "    Y=np.array(dic[b'labels'])\n",
    "    for l in ['data_batch_2','data_batch_3','data_batch_4',\n",
    "              'data_batch_5', 'test_batch']:\n",
    "        dic1 = unpickle(path_images+l)\n",
    "        X1 = np.array(dic1[b'data'], dtype='int32')\n",
    "        Y1 = np.array(dic1[b'labels'])\n",
    "        X = np.concatenate((X, X1), axis=0)\n",
    "        Y= np.concatenate((Y, Y1) ,axis=0)\n",
    "    \n",
    "    return X, Y"
   ]
  },
  {
   "cell_type": "code",
   "execution_count": 5,
   "metadata": {},
   "outputs": [],
   "source": [
    "def decoupage_donnees(X, Y):\n",
    "    D, N = X.shape\n",
    "    \n",
    "    list_index_train = random.sample(range(D-1) , int(D*0.8))\n",
    "    list_index_test = [l for l in range(D) if l not in list_index_train]\n",
    "    \n",
    "    Xapp = X[list_index_train, :]\n",
    "    Yapp = np.take(Y, list_index_train)\n",
    "    \n",
    "    Xtest = X[list_index_test, :]\n",
    "    Ytest= np.take(Y, list_index_test)\n",
    "    \n",
    "    return Xapp, Yapp, Xtest, Ytest"
   ]
  },
  {
   "cell_type": "code",
   "execution_count": 6,
   "metadata": {},
   "outputs": [],
   "source": [
    "X, Y = lecture_cifar(path_images)\n",
    "Xapp, Yapp, Xtest, Ytest = decoupage_donnees(X, Y)"
   ]
  },
  {
   "cell_type": "code",
   "execution_count": 7,
   "metadata": {},
   "outputs": [
    {
     "name": "stdout",
     "output_type": "stream",
     "text": [
      "Training set size: (48000, 3072)\n",
      "Training labels size: (48000,) \n",
      "Testing set size: (12000, 3072)\n",
      "Testing labels size: (12000,)\n"
     ]
    }
   ],
   "source": [
    "print('Training set size: %s' %str(Xapp.shape))\n",
    "print('Training labels size: %s ' %str(Yapp.shape))\n",
    "print('Testing set size: %s' %str(Xtest.shape))\n",
    "print('Testing labels size: %s' %str(Ytest.shape))"
   ]
  },
  {
   "cell_type": "markdown",
   "metadata": {},
   "source": [
    "# Partie KNN :"
   ]
  },
  {
   "cell_type": "code",
   "execution_count": 8,
   "metadata": {},
   "outputs": [],
   "source": [
    "def kppv_distances(Xtest, Xapp):\n",
    "    m = Xapp.shape[0]\n",
    "    n = Xtest.shape[0]\n",
    "    Xapp2 = np.sum(Xapp**2, axis=1).reshape(m,1)\n",
    "    Xtest2 = np.sum(Xtest**2, axis=1).reshape(1,n)\n",
    "    XappXtest = Xapp.dot(Xtest.T)\n",
    "    dists = np.sqrt(Xapp2+Xtest2-2*XappXtest)\n",
    "    return dists"
   ]
  },
  {
   "cell_type": "code",
   "execution_count": 9,
   "metadata": {},
   "outputs": [
    {
     "name": "stdout",
     "output_type": "stream",
     "text": [
      "(48000, 12000)\n"
     ]
    }
   ],
   "source": [
    "Dist = kppv_distances(Xtest, Xapp)\n",
    "print(Dist.shape)"
   ]
  },
  {
   "cell_type": "code",
   "execution_count": 10,
   "metadata": {},
   "outputs": [],
   "source": [
    "def kppv_predict(Dist, Yapp, K):\n",
    "    num_test = Dist.shape[1]\n",
    "    Ypred = []\n",
    "    for i in range(num_test):        \n",
    "        indices_voisins_proches = np.argsort(Dist[:,i],axis=0)[:K]\n",
    "        voisins_proches = Yapp[indices_voisins_proches]\n",
    "        vote_voisins = Counter(voisins_proches).most_common()\n",
    "        if len(vote_voisins) == K :\n",
    "            Ypred.append(voisins_proches[0])\n",
    "        else :\n",
    "            Ypred.append(int(vote_voisins[0][0]))\n",
    "    return Ypred"
   ]
  },
  {
   "cell_type": "code",
   "execution_count": 13,
   "metadata": {},
   "outputs": [],
   "source": [
    "def evaluation_classifieur(Ytest, Ypred):\n",
    "    evalu = Ytest==Ypred\n",
    "    return sum(evalu)/len(evalu)"
   ]
  },
  {
   "cell_type": "markdown",
   "metadata": {},
   "source": [
    "### Expérimentations : "
   ]
  },
  {
   "cell_type": "markdown",
   "metadata": {},
   "source": [
    "1- Influence de nombre de voisins K sur l'efficacité du classifieur"
   ]
  },
  {
   "cell_type": "code",
   "execution_count": 15,
   "metadata": {},
   "outputs": [],
   "source": [
    "def trace():\n",
    "    K=[1,2,3,4,5,6,7,8,9,10,20,30,40,50,60,70]\n",
    "    acc = []\n",
    "    for k in K :\n",
    "        Ypred = kppv_predict(Dist, Yapp, k)\n",
    "        acc.append(evaluation_classifieur(Ytest, Ypred))\n",
    "    plt.plot(K,acc)\n",
    "    plt.xlabel('nombre de voisins K')\n",
    "    plt.ylabel('Taux de classification')\n",
    "    plt.title(\"Influence de nombre de voisins K sur l'efficacité du classifieur\")"
   ]
  },
  {
   "cell_type": "code",
   "execution_count": 16,
   "metadata": {},
   "outputs": [
    {
     "data": {
      "image/png": "[encoded data removed]",
      "text/plain": [
       "<Figure size 432x288 with 1 Axes>"
      ]
     },
     "metadata": {
      "needs_background": "light"
     },
     "output_type": "display_data"
    }
   ],
   "source": [
    "trace()"
   ]
  },
  {
   "cell_type": "markdown",
   "metadata": {},
   "source": [
    "2- Réprésentation des images par des descripteurs LBP et HOG"
   ]
  },
  {
   "cell_type": "code",
   "execution_count": 23,
   "metadata": {},
   "outputs": [],
   "source": [
    "#L'image est représentée par 3 matrices 32x32\n",
    "def img_CIFAR(ind):\n",
    "    arr = X[ind]\n",
    "    R = arr[0:1024].reshape(32,32)/255.0\n",
    "    G = arr[1024:2048].reshape(32,32)/255.0\n",
    "    B = arr[2048:].reshape(32,32)/255.0\n",
    " \n",
    "    img = np.dstack((R,G,B))\n",
    "    return img"
   ]
  },
  {
   "cell_type": "code",
   "execution_count": 24,
   "metadata": {},
   "outputs": [
    {
     "data": {
      "text/plain": [
       "<matplotlib.image.AxesImage at 0x2b580074668>"
      ]
     },
     "execution_count": 24,
     "metadata": {},
     "output_type": "execute_result"
    },
    {
     "data": {
      "image/png": "[encoded data removed]",
      "text/plain": [
       "<Figure size 432x288 with 1 Axes>"
      ]
     },
     "metadata": {
      "needs_background": "light"
     },
     "output_type": "display_data"
    }
   ],
   "source": [
    "#Exemple : Plot image 0 du dataset\n",
    "img = img_CIFAR(0)\n",
    "plt.imshow(img)"
   ]
  },
  {
   "cell_type": "code",
   "execution_count": 25,
   "metadata": {},
   "outputs": [],
   "source": [
    "#Représentation LBP & HOG\n",
    "from skimage.feature import hog, local_binary_pattern\n",
    "from skimage import color\n",
    "\n",
    "#Transformation d'une image à 3 matrices (R B G) en une matrice grise\n",
    "img2d = color.rgb2gray(img)"
   ]
  },
  {
   "cell_type": "code",
   "execution_count": 26,
   "metadata": {},
   "outputs": [
    {
     "data": {
      "text/plain": [
       "<matplotlib.image.AxesImage at 0x2b5b49c1438>"
      ]
     },
     "execution_count": 26,
     "metadata": {},
     "output_type": "execute_result"
    },
    {
     "data": {
      "image/png": "[encoded data removed]",
      "text/plain": [
       "<Figure size 432x288 with 1 Axes>"
      ]
     },
     "metadata": {
      "needs_background": "light"
     },
     "output_type": "display_data"
    }
   ],
   "source": [
    "#Image LBD\n",
    "lbp = local_binary_pattern(img2d, 24, 3)\n",
    "plt.imshow(lbp)"
   ]
  },
  {
   "cell_type": "code",
   "execution_count": 27,
   "metadata": {},
   "outputs": [
    {
     "name": "stderr",
     "output_type": "stream",
     "text": [
      "C:\\ProgramData\\Anaconda3\\lib\\site-packages\\skimage\\feature\\_hog.py:150: skimage_deprecation: Default value of `block_norm`==`L1` is deprecated and will be changed to `L2-Hys` in v0.15. To supress this message specify explicitly the normalization method.\n",
      "  skimage_deprecation)\n"
     ]
    },
    {
     "data": {
      "text/plain": [
       "<matplotlib.image.AxesImage at 0x2b5b4a1a160>"
      ]
     },
     "execution_count": 27,
     "metadata": {},
     "output_type": "execute_result"
    },
    {
     "data": {
      "image/png": "[encoded data removed]",
      "text/plain": [
       "<Figure size 432x288 with 1 Axes>"
      ]
     },
     "metadata": {
      "needs_background": "light"
     },
     "output_type": "display_data"
    }
   ],
   "source": [
    "#Image HOG\n",
    "Hog = hog(img2d, visualize=True)[1]\n",
    "plt.imshow(Hog)"
   ]
  },
  {
   "cell_type": "markdown",
   "metadata": {},
   "source": [
    "Maitenant on va essayer d'appliquer KNN sur la représentation LBP et HOG de ces images"
   ]
  },
  {
   "cell_type": "code",
   "execution_count": 30,
   "metadata": {},
   "outputs": [],
   "source": [
    "#Transformation de X LBP\n",
    "def Transfor_LBD(X): \n",
    "    X_lbd = []\n",
    "    for i in range(len(X)):\n",
    "        img = img_CIFAR(i)\n",
    "        img2d = color.rgb2gray(img)\n",
    "        lbp = local_binary_pattern(img2d, 24, 3)\n",
    "        X_lbd.append(list(lbp.reshape((1,1024))[0]))\n",
    "    return np.array(X_lbd)"
   ]
  },
  {
   "cell_type": "code",
   "execution_count": 31,
   "metadata": {},
   "outputs": [],
   "source": [
    "X_lbd = Transfor_LBD(X)\n",
    "Xapp_lbd, Yapp_lbd, Xtest_lbd, Ytest_lbd = decoupage_donnees(X_lbd, Y)\n",
    "Dist_lbd = kppv_distances(Xtest_lbd, Xapp_lbd)"
   ]
  },
  {
   "cell_type": "code",
   "execution_count": 33,
   "metadata": {},
   "outputs": [
    {
     "name": "stdout",
     "output_type": "stream",
     "text": [
      "accuracy KNN LBD transformation : 0.293 \n"
     ]
    }
   ],
   "source": [
    "Ypred_lbd = kppv_predict(Dist_lbd, Yapp_lbd, K=3)\n",
    "print('accuracy KNN LBD transformation : %s '%(evaluation_classifieur(Ytest_lbd, Ypred_lbd)))"
   ]
  },
  {
   "cell_type": "markdown",
   "metadata": {},
   "source": [
    "# Partie Réseau de neurones"
   ]
  },
  {
   "cell_type": "code",
   "execution_count": 35,
   "metadata": {},
   "outputs": [],
   "source": [
    "from sklearn import preprocessing"
   ]
  },
  {
   "cell_type": "code",
   "execution_count": 36,
   "metadata": {},
   "outputs": [],
   "source": [
    "#On normalise les données pour ne pas avoir des warning overfloat avec\n",
    "#l'exponentiel quand on entraine le RN\n",
    "X = preprocessing.normalize(X, norm='max', axis=0)"
   ]
  },
  {
   "cell_type": "code",
   "execution_count": 37,
   "metadata": {},
   "outputs": [],
   "source": [
    "Xapp, Yapp, Xtest, Ytest = decoupage_donnees(X, Y)"
   ]
  },
  {
   "cell_type": "code",
   "execution_count": 38,
   "metadata": {},
   "outputs": [
    {
     "name": "stdout",
     "output_type": "stream",
     "text": [
      "Training set size: (48000, 3072)\n",
      "Training labels size: (48000,) \n",
      "Testing set size: (12000, 3072)\n",
      "Testing labels size: (12000,)\n"
     ]
    }
   ],
   "source": [
    "print('Training set size: %s' %str(Xapp.shape))\n",
    "print('Training labels size: %s ' %str(Yapp.shape))\n",
    "print('Testing set size: %s' %str(Xtest.shape))\n",
    "print('Testing labels size: %s' %str(Ytest.shape))"
   ]
  },
  {
   "cell_type": "markdown",
   "metadata": {},
   "source": [
    "Adaptation du réseau de neurones à 1 couche cachée à CIFAR classification"
   ]
  },
  {
   "cell_type": "code",
   "execution_count": 39,
   "metadata": {},
   "outputs": [],
   "source": [
    "np.random.seed(1)\n",
    "\n",
    "N, D_in, D_h, D_out = 60000, 32*32*3, 50, 10\n",
    "learning_rate = 1e-2\n",
    "W1 = 2 * np.random.random((D_in, D_h)) - 1\n",
    "b1 = np.zeros((1,D_h))\n",
    "W2 = 2 * np.random.random((D_h, D_out)) - 1\n",
    "b2 = np.zeros((1,D_out))"
   ]
  },
  {
   "cell_type": "code",
   "execution_count": 40,
   "metadata": {},
   "outputs": [],
   "source": [
    "batch_size=200\n",
    "num_iters=1000\n",
    "num_train = Xapp.shape[0]\n",
    "iterations_per_epoch = max(num_train / batch_size, 1)"
   ]
  },
  {
   "cell_type": "code",
   "execution_count": 41,
   "metadata": {},
   "outputs": [],
   "source": [
    "loss_history = []\n",
    "train_acc_history = []\n",
    "\n",
    "for it in range(num_iters):\n",
    "    X_batch = None\n",
    "    y_batch = None\n",
    "    \n",
    "    random_minibatch = np.random.choice(np.arange(num_train), batch_size)\n",
    "    X_batch = Xapp[random_minibatch]\n",
    "    y_batch = Yapp[random_minibatch]\n",
    "    \n",
    "    I1 = X_batch.dot(W1) + b1 # Potentiel d'entrée de la couche cachée\n",
    "    O1 = 1/(1+np.exp(-I1)) # Sortie de la couche cachée (fonction d'activation de type sigmoïde)\n",
    "    I2 = O1.dot(W2) + b2 # Potentiel d'entrée de la couche de sortie\n",
    "    O2 = 1/(1+np.exp(-I2)) # Sortie de la couche de sortie (fonction d'activation de type sigmoïde)\n",
    "    Y_pred = O2 # Les valeurs prédites sont les sorties de la couche de sortie\n",
    "    \n",
    "    \n",
    "    lb = preprocessing.LabelBinarizer()\n",
    "    lb.fit(y_batch)\n",
    "    Y_true = lb.transform(y_batch)\n",
    "    loss = np.square(Y_pred - Y_true).sum() / len(Y_true)\n",
    "    loss_history.append(loss)\n",
    "    \n",
    "    \n",
    "    delta_O2 = O2 - Y_true \n",
    "    delta_I2 = (1 - O2) * O2 *delta_O2 \n",
    "    delta_w2 = np.dot(O1.T, delta_I2)\n",
    "    delta_b2 = np.sum(delta_I2, axis=0)\n",
    "    delta_O1 = delta_I2.dot(W2.T)\n",
    "    delta_I1 = delta_O1 * (1 - O1) *O1\n",
    "    delta_w1 = np.dot(X_batch.T, delta_I1)\n",
    "    delta_b1 = np.sum(delta_I1, axis=0)\n",
    "    W2 -= learning_rate * delta_w2\n",
    "    b2 -= learning_rate * delta_b2\n",
    "    W1 -= learning_rate * delta_w1\n",
    "    b1 -= learning_rate * delta_b1\n",
    "    \n",
    "    #Accuracy\n",
    "    y_pred = []\n",
    "    z1 = Xtest.dot(W1) + b1\n",
    "    a1 = 1/(1+np.exp(-z1))\n",
    "    scores = a1.dot(W2) + b2\n",
    "    y_pred = np.argmax(scores, axis=1)\n",
    "    train_acc_history.append((y_pred == Ytest).mean())"
   ]
  },
  {
   "cell_type": "code",
   "execution_count": 42,
   "metadata": {},
   "outputs": [
    {
     "data": {
      "image/png": "[encoded data removed]",
      "text/plain": [
       "<Figure size 432x288 with 2 Axes>"
      ]
     },
     "metadata": {
      "needs_background": "light"
     },
     "output_type": "display_data"
    },
    {
     "name": "stdout",
     "output_type": "stream",
     "text": [
      "Accuracy sur les données test : 0.30383333333333334\n"
     ]
    }
   ],
   "source": [
    "plt.subplot(2, 1, 1)\n",
    "plt.plot(loss_history)\n",
    "plt.xlabel(\"Nombre d'itérations\")\n",
    "plt.ylabel('Loss')\n",
    "\n",
    "plt.subplot(2, 1, 2)\n",
    "plt.plot(train_acc_history, label='val')\n",
    "plt.xlabel('Epoch')\n",
    "plt.ylabel('Clasification accuracy')\n",
    "plt.show()\n",
    "\n",
    "print('Accuracy sur les données test : %s'%(train_acc_history[-1]))"
   ]
  },
  {
   "cell_type": "markdown",
   "metadata": {},
   "source": [
    "### Expérimentations"
   ]
  },
  {
   "cell_type": "code",
   "execution_count": 43,
   "metadata": {},
   "outputs": [],
   "source": [
    "#Pour la suite on va utiliser des fonctions pour faire les expérimentations\n",
    "\n",
    "def reseau_neurone_une_couche(D_in, D_h, D_out, Xapp, Yapp, Xtest, Ytest, num_iters, learning_rate, batch_size):\n",
    "    \n",
    "    W1 = 2 * np.random.random((D_in, D_h)) - 1\n",
    "    b1 = np.zeros((1,D_h))\n",
    "    W2 = 2 * np.random.random((D_h, D_out)) - 1\n",
    "    b2 = np.zeros((1,D_out))\n",
    "    \n",
    "    loss_history = []\n",
    "    train_acc_history = []\n",
    "\n",
    "    for it in range(num_iters):\n",
    "        X_batch = None\n",
    "        y_batch = None\n",
    "\n",
    "        random_minibatch = np.random.choice(np.arange(num_train), batch_size)\n",
    "        X_batch = Xapp[random_minibatch]\n",
    "        y_batch = Yapp[random_minibatch]\n",
    "\n",
    "        I1 = X_batch.dot(W1) + b1 # Potentiel d'entrée de la couche cachée\n",
    "        O1 = 1/(1+np.exp(-I1)) # Sortie de la couche cachée (fonction d'activation de type sigmoïde)\n",
    "        I2 = O1.dot(W2) + b2 # Potentiel d'entrée de la couche de sortie\n",
    "        O2 = 1/(1+np.exp(-I2)) # Sortie de la couche de sortie (fonction d'activation de type sigmoïde)\n",
    "        Y_pred = O2 # Les valeurs prédites sont les sorties de la couche de sortie\n",
    "\n",
    "\n",
    "        lb = preprocessing.LabelBinarizer()\n",
    "        lb.fit(y_batch)\n",
    "        Y_true = lb.transform(y_batch)\n",
    "        loss = np.square(Y_pred - Y_true).sum() / len(Y_true)\n",
    "        loss_history.append(loss)\n",
    "\n",
    "\n",
    "        delta_O2 = O2 - Y_true \n",
    "        delta_I2 = (1 - O2) * O2 *delta_O2 \n",
    "        delta_w2 = np.dot(O1.T, delta_I2)\n",
    "        delta_b2 = np.sum(delta_I2, axis=0)\n",
    "        delta_O1 = delta_I2.dot(W2.T)\n",
    "        delta_I1 = delta_O1 * (1 - O1) *O1\n",
    "        delta_w1 = np.dot(X_batch.T, delta_I1)\n",
    "        delta_b1 = np.sum(delta_I1, axis=0)\n",
    "        W2 -= learning_rate * delta_w2\n",
    "        b2 -= learning_rate * delta_b2\n",
    "        W1 -= learning_rate * delta_w1\n",
    "        b1 -= learning_rate * delta_b1\n",
    "\n",
    "        #Accuracy\n",
    "        y_pred = []\n",
    "        z1 = Xtest.dot(W1) + b1\n",
    "        a1 = 1/(1+np.exp(-z1))\n",
    "        scores = a1.dot(W2) + b2\n",
    "        y_pred = np.argmax(scores, axis=1)\n",
    "        train_acc_history.append((y_pred == Ytest).mean())\n",
    "    \n",
    "    params = {'W1':W1, 'b1':b1, 'W2':W2, 'b2':b2}\n",
    "        \n",
    "    return params, loss_history, train_acc_history"
   ]
  },
  {
   "cell_type": "code",
   "execution_count": 44,
   "metadata": {},
   "outputs": [
    {
     "name": "stdout",
     "output_type": "stream",
     "text": [
      "Pour 20 neurones dans la couche cachée, Accuracy = 0.1825\n",
      "Pour 30 neurones dans la couche cachée, Accuracy = 0.27125\n",
      "Pour 40 neurones dans la couche cachée, Accuracy = 0.31666666666666665\n",
      "Pour 50 neurones dans la couche cachée, Accuracy = 0.31683333333333336\n",
      "Pour 60 neurones dans la couche cachée, Accuracy = 0.31233333333333335\n",
      "Pour 80 neurones dans la couche cachée, Accuracy = 0.31983333333333336\n",
      "Pour 100 neurones dans la couche cachée, Accuracy = 0.32758333333333334\n"
     ]
    }
   ],
   "source": [
    "#Varier le nombre de neurones dans la couche cachée\n",
    "N, D_in, D_out = 60000, 32*32*3, 10\n",
    "learning_rate = 1e-2\n",
    "batch_size=200\n",
    "num_iters=1000\n",
    "\n",
    "D_hs = [20,30,40,50,60,80,100]\n",
    "\n",
    "for D_h in D_hs :\n",
    "    train_acc_history = reseau_neurone_une_couche(D_in, D_h, D_out, Xapp, Yapp, Xtest, Ytest,\n",
    "                              num_iters, learning_rate, batch_size)[-1]\n",
    "    print(\"Pour %s neurones dans la couche cachée, Accuracy = %s\" %(D_h,train_acc_history[-1]))\n",
    "    "
   ]
  },
  {
   "cell_type": "code",
   "execution_count": 45,
   "metadata": {},
   "outputs": [],
   "source": [
    "#Ajout couche reseau de neurones\n",
    "def reseau_neurone_deux_couches(D_in, D_h, D_out, Xapp, Yapp, Xtest, Ytest, num_iters, learning_rate, batch_size):\n",
    "    \n",
    "    W1 = 2 * np.random.random((D_in, D_h)) - 1\n",
    "    b1 = np.zeros((1,D_h))\n",
    "    W2 = 2 * np.random.random((D_h, D_h)) - 1\n",
    "    b2 = np.zeros((1,D_h))\n",
    "    W3 = 2 * np.random.random((D_h, D_out)) - 1\n",
    "    b3 = np.zeros((1,D_out))\n",
    "    \n",
    "    loss_history = []\n",
    "    train_acc_history = []\n",
    "\n",
    "    for it in range(num_iters):\n",
    "        X_batch = None\n",
    "        y_batch = None\n",
    "\n",
    "        random_minibatch = np.random.choice(np.arange(num_train), batch_size)\n",
    "        X_batch = Xapp[random_minibatch]\n",
    "        y_batch = Yapp[random_minibatch]\n",
    "\n",
    "        I1 = X_batch.dot(W1) + b1 # Potentiel d'entrée de la couche cachée\n",
    "        O1 = 1/(1+np.exp(-I1)) # Sortie de la couche cachée (fonction d'activation de type sigmoïde)\n",
    "        I2 = O1.dot(W2) + b2 # Potentiel d'entrée de la couche de sortie\n",
    "        O2 = 1/(1+np.exp(-I2)) # Sortie de la couche de sortie (fonction d'activation de type sigmoïde)\n",
    "        I3 = O2.dot(W3) + b3\n",
    "        O3 = 1/(1+np.exp(-I3)) \n",
    "        Y_pred = O3 # Les valeurs prédites sont les sorties de la couche de sortie\n",
    "\n",
    "\n",
    "        lb = preprocessing.LabelBinarizer()\n",
    "        lb.fit(y_batch)\n",
    "        Y_true = lb.transform(y_batch)\n",
    "        loss = np.square(Y_pred - Y_true).sum() / len(Y_true)\n",
    "        loss_history.append(loss)\n",
    "\n",
    "\n",
    "        delta_O3 = O3 - Y_true \n",
    "        delta_I3 = (1 - O3) * O3 *delta_O3 \n",
    "        delta_w3 = np.dot(O2.T, delta_I3)\n",
    "        delta_b3 = np.sum(delta_I3, axis=0)\n",
    "        delta_O2 = delta_I3.dot(W3.T)\n",
    "        delta_I2 = delta_O2 * (1 - O2) *O2\n",
    "        delta_w2 = np.dot(O1.T, delta_I2)\n",
    "        delta_b2 = np.sum(delta_I2, axis=0)\n",
    "        delta_O1 = delta_I2.dot(W2.T)\n",
    "        delta_I1 = delta_O1 * (1 - O1) *O1\n",
    "        delta_w1 = np.dot(X_batch.T, delta_I1)\n",
    "        delta_b1 = np.sum(delta_I1, axis=0)\n",
    "        W3 -= learning_rate * delta_w3\n",
    "        b3 -= learning_rate * delta_b3\n",
    "        W2 -= learning_rate * delta_w2\n",
    "        b2 -= learning_rate * delta_b2\n",
    "        W1 -= learning_rate * delta_w1\n",
    "        b1 -= learning_rate * delta_b1\n",
    "\n",
    "        #Accuracy\n",
    "        y_pred = []\n",
    "        z1 = Xtest.dot(W1) + b1\n",
    "        a1 = 1/(1+np.exp(-z1))\n",
    "        z2 = a1.dot(W2) + b2\n",
    "        a2 = 1/(1+np.exp(-z2))\n",
    "        scores = a2.dot(W3)+b3\n",
    "        y_pred = np.argmax(scores, axis=1)\n",
    "        train_acc_history.append((y_pred == Ytest).mean())\n",
    "    \n",
    "    params = {'W1':W1, 'b1':b1, 'W2':W2, 'b2':b2, 'W3':W3, 'b3':b3}\n",
    "        \n",
    "    return params, loss_history, train_acc_history"
   ]
  },
  {
   "cell_type": "code",
   "execution_count": 46,
   "metadata": {},
   "outputs": [
    {
     "name": "stdout",
     "output_type": "stream",
     "text": [
      "Accuracy données test réseau de neurones deux couches : 0.3001666666666667\n"
     ]
    },
    {
     "data": {
      "image/png": "[encoded data removed]",
      "text/plain": [
       "<Figure size 432x288 with 2 Axes>"
      ]
     },
     "metadata": {
      "needs_background": "light"
     },
     "output_type": "display_data"
    }
   ],
   "source": [
    "N, D_in, D_h, D_out = 60000, 32*32*3, 50, 10\n",
    "learning_rate = 1e-2\n",
    "batch_size=200\n",
    "num_iters=1000\n",
    "result = reseau_neurone_deux_couches(D_in, D_h, D_out, Xapp, Yapp, Xtest, Ytest,\n",
    "                            num_iters, learning_rate, batch_size)\n",
    "print(\"Accuracy données test réseau de neurones deux couches : %s\" %result[-1][-1])\n",
    "\n",
    "plt.subplot(2, 1, 1)\n",
    "plt.plot(result[1])\n",
    "plt.xlabel(\"Nombre d'itérations\")\n",
    "plt.ylabel('Loss')\n",
    "\n",
    "plt.subplot(2, 1, 2)\n",
    "plt.plot(result[2], label='val')\n",
    "plt.xlabel('Epoch')\n",
    "plt.ylabel('Clasification accuracy')\n",
    "plt.show()"
   ]
  },
  {
   "cell_type": "code",
   "execution_count": 47,
   "metadata": {},
   "outputs": [],
   "source": [
    "#Réseau de neurones une couche fonction d'activation = ReLu \n",
    "#et loss = cross entropy\n",
    "\n",
    "def ReLU(x):\n",
    "    return x * (x > 0)\n",
    "\n",
    "def d_ReLU(x):\n",
    "    return 1. * (x > 0)\n",
    "\n",
    "def cross_entropy(predictions, targets, epsilon=1e-12):\n",
    "    predictions = np.clip(predictions, epsilon, 1. - epsilon)\n",
    "    N = predictions.shape[0]\n",
    "    ce = -np.sum(targets*np.log(predictions+1e-9))/N\n",
    "    return ce\n",
    "\n",
    "def reseau_neurone_une_couche_relu_cross_entropy(D_in, D_h, D_out, Xapp, Yapp,\n",
    "                                                 Xtest,Ytest, num_iters, \n",
    "                                                 learning_rate, \n",
    "                                                 batch_size):\n",
    "    \n",
    "    W1 = 2 * np.random.random((D_in, D_h)) - 1\n",
    "    b1 = np.zeros((1,D_h))\n",
    "    W2 = 2 * np.random.random((D_h, D_out)) - 1\n",
    "    b2 = np.zeros((1,D_out))\n",
    "    \n",
    "    loss_history = []\n",
    "    train_acc_history = []\n",
    "\n",
    "    for it in range(num_iters):\n",
    "        X_batch = None\n",
    "        y_batch = None\n",
    "\n",
    "        random_minibatch = np.random.choice(np.arange(num_train), batch_size)\n",
    "        X_batch = Xapp[random_minibatch]\n",
    "        y_batch = Yapp[random_minibatch]\n",
    "\n",
    "        I1 = X_batch.dot(W1) + b1 # Potentiel d'entrée de la couche cachée\n",
    "        O1 = ReLU(I1) # Sortie de la couche cachée (fonction d'activation de type sigmoïde)\n",
    "        I2 = O1.dot(W2) + b2 # Potentiel d'entrée de la couche de sortie\n",
    "        O2 = ReLU(I2) # Sortie de la couche de sortie (fonction d'activation de type sigmoïde)\n",
    "        Y_pred = O2 # Les valeurs prédites sont les sorties de la couche de sortie\n",
    "\n",
    "\n",
    "        lb = preprocessing.LabelBinarizer()\n",
    "        lb.fit(y_batch)\n",
    "        Y_true = lb.transform(y_batch)\n",
    "        loss = cross_entropy(Y_pred, Y_true, epsilon=1e-12)\n",
    "        loss_history.append(loss)\n",
    "\n",
    "\n",
    "        delta_O2 = O2 - Y_true \n",
    "        delta_I2 = d_ReLU(O2) *delta_O2 \n",
    "        delta_w2 = np.dot(O1.T, delta_I2)\n",
    "        delta_b2 = np.sum(delta_I2, axis=0)\n",
    "        delta_O1 = delta_I2.dot(W2.T)\n",
    "        delta_I1 = delta_O1 * d_ReLU(O1)\n",
    "        delta_w1 = np.dot(X_batch.T, delta_I1)\n",
    "        delta_b1 = np.sum(delta_I1, axis=0)\n",
    "        W2 -= learning_rate * delta_w2\n",
    "        b2 -= learning_rate * delta_b2\n",
    "        W1 -= learning_rate * delta_w1\n",
    "        b1 -= learning_rate * delta_b1\n",
    "\n",
    "        #Accuracy\n",
    "        y_pred = []\n",
    "        z1 = Xtest.dot(W1) + b1\n",
    "        a1 = np.maximum(0,z1)\n",
    "        scores = a1.dot(W2) + b2\n",
    "        y_pred = np.argmax(scores, axis=1)\n",
    "        train_acc_history.append((y_pred == Ytest).mean())\n",
    "    \n",
    "    params = {'W1':W1, 'b1':b1, 'W2':W2, 'b2':b2}\n",
    "        \n",
    "    return params, loss_history, train_acc_history"
   ]
  },
  {
   "cell_type": "code",
   "execution_count": 48,
   "metadata": {},
   "outputs": [
    {
     "name": "stdout",
     "output_type": "stream",
     "text": [
      "Accuracy données test réseau de neurones deux couches : 0.10091666666666667\n"
     ]
    },
    {
     "data": {
      "image/png": "[encoded data removed]",
      "text/plain": [
       "<Figure size 432x288 with 2 Axes>"
      ]
     },
     "metadata": {
      "needs_background": "light"
     },
     "output_type": "display_data"
    }
   ],
   "source": [
    "N, D_in, D_h, D_out = 60000, 32*32*3, 50, 10\n",
    "learning_rate = 1e-4\n",
    "batch_size=200\n",
    "num_iters=1000\n",
    "result = reseau_neurone_une_couche_relu_cross_entropy(D_in, D_h, D_out,\n",
    "                                                    Xapp, Yapp, Xtest, Ytest,\n",
    "                                                    num_iters, learning_rate,\n",
    "                                                    batch_size)\n",
    "print(\"Accuracy données test réseau de neurones deux couches : %s\" %result[-1][-1])\n",
    "\n",
    "plt.subplot(2, 1, 1)\n",
    "plt.plot(result[1])\n",
    "plt.xlabel(\"Nombre d'itérations\")\n",
    "plt.ylabel('Loss')\n",
    "\n",
    "plt.subplot(2, 1, 2)\n",
    "plt.plot(result[2], label='val')\n",
    "plt.xlabel('Epoch')\n",
    "plt.ylabel('Clasification accuracy')\n",
    "plt.show()"
   ]
  },
  {
   "cell_type": "code",
   "execution_count": 49,
   "metadata": {},
   "outputs": [
    {
     "data": {
      "text/plain": [
       "Text(0, 0.5, 'Accuracy données test')"
      ]
     },
     "execution_count": 49,
     "metadata": {},
     "output_type": "execute_result"
    },
    {
     "data": {
      "image/png": "[encoded data removed]",
      "text/plain": [
       "<Figure size 432x288 with 1 Axes>"
      ]
     },
     "metadata": {
      "needs_background": "light"
     },
     "output_type": "display_data"
    }
   ],
   "source": [
    "#faire varier le learning rate \n",
    "N, D_in, D_h, D_out = 60000, 32*32*3, 50, 10\n",
    "list_learning_rate = [0.1, 1e-2, 1e-3, 1e-4, 1e-5, 1e-6]\n",
    "batch_size=200\n",
    "num_iters=1000\n",
    "\n",
    "train_acc_history = []\n",
    "for learning_rate in list_learning_rate :\n",
    "    train_acc_history.append(reseau_neurone_une_couche(D_in, D_h, D_out, Xapp, Yapp, Xtest, Ytest,\n",
    "                              num_iters, learning_rate, batch_size)[-1][-1])\n",
    "\n",
    "plt.plot(list_learning_rate, train_acc_history)\n",
    "plt.xlabel('learning rate')\n",
    "plt.ylabel('Accuracy données test')"
   ]
  },
  {
   "cell_type": "code",
   "execution_count": 50,
   "metadata": {},
   "outputs": [
    {
     "data": {
      "text/plain": [
       "Text(0, 0.5, 'Accuracy données test')"
      ]
     },
     "execution_count": 50,
     "metadata": {},
     "output_type": "execute_result"
    },
    {
     "data": {
      "image/png": "[encoded data removed]",
      "text/plain": [
       "<Figure size 432x288 with 1 Axes>"
      ]
     },
     "metadata": {
      "needs_background": "light"
     },
     "output_type": "display_data"
    }
   ],
   "source": [
    "plt.plot(-np.log10(list_learning_rate), train_acc_history)\n",
    "plt.xlabel('- log learning rate')\n",
    "plt.ylabel('Accuracy données test')"
   ]
  }
 ],
 "metadata": {
  "kernelspec": {
   "display_name": "Python 3",
   "language": "python",
   "name": "python3"
  },
  "language_info": {
   "codemirror_mode": {
    "name": "ipython",
    "version": 3
   },
   "file_extension": ".py",
   "mimetype": "text/x-python",
   "name": "python",
   "nbconvert_exporter": "python",
   "pygments_lexer": "ipython3",
   "version": "3.5.6"
  }
 },
 "nbformat": 4,
 "nbformat_minor": 2
}
